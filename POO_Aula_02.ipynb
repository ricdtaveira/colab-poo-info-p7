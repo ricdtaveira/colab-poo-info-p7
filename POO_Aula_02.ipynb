{
  "nbformat": 4,
  "nbformat_minor": 0,
  "metadata": {
    "colab": {
      "name": "POO_Aula_02.ipynb",
      "private_outputs": true,
      "provenance": [],
      "collapsed_sections": [],
      "toc_visible": true,
      "authorship_tag": "ABX9TyOHL2ZKIdCgnfq0FWh1Nz1B",
      "include_colab_link": true
    },
    "kernelspec": {
      "name": "python3",
      "display_name": "Python 3"
    }
  },
  "cells": [
    {
      "cell_type": "markdown",
      "metadata": {
        "id": "view-in-github",
        "colab_type": "text"
      },
      "source": [
        "<a href=\"https://colab.research.google.com/github/ricdtaveira/colab-poo-info-p7/blob/main/POO_Aula_02.ipynb\" target=\"_parent\"><img src=\"https://colab.research.google.com/assets/colab-badge.svg\" alt=\"Open In Colab\"/></a>"
      ]
    },
    {
      "cell_type": "markdown",
      "metadata": {
        "id": "QnhMjpCS3v_R"
      },
      "source": [
        ""
      ]
    },
    {
      "cell_type": "markdown",
      "metadata": {
        "id": "5orH-aZd3y8A"
      },
      "source": [
        "# **AULA-02**\r\n",
        "# **1) Introdução**\r\n",
        "Nessa aula iremos apresentar caracteristicas da linguagem Python apresentadas nos seguintes tópicos:\r\n",
        "\r\n",
        "*   **Sintaxe de Execução** \r\n",
        "*   **Identação**\r\n",
        "*   **Comentários** \r\n",
        "*   **Variáveis** \r\n",
        "*   **Tipos de Dados** \r\n",
        "*   **Números** \r\n",
        "*   **Casting** \r\n",
        "\r\n",
        "\r\n",
        "\r\n",
        "\r\n",
        "\r\n",
        "\r\n",
        "\r\n",
        "\r\n",
        "\r\n",
        "\r\n",
        "\r\n",
        "\r\n"
      ]
    },
    {
      "cell_type": "markdown",
      "metadata": {
        "id": "sWmFSWGV9CQ8"
      },
      "source": [
        "# **2) Sintaxe de Execução**\r\n",
        "\r\n",
        "A uma expressão em Python pode ser executada escrevendo diretamente na linha de comando usando o REPL, ou usando o Colab.\r\n",
        "\r\n",
        "![figura-01.jpg](data:image/jpeg;base64,/9j/4AAQSkZJRgABAQEAYABgAAD/2wBDAAMCAgMCAgMDAwMEAwMEBQgFBQQEBQoHBwYIDAoMDAsKCwsNDhIQDQ4RDgsLEBYQERMUFRUVDA8XGBYUGBIUFRT/2wBDAQMEBAUEBQkFBQkUDQsNFBQUFBQUFBQUFBQUFBQUFBQUFBQUFBQUFBQUFBQUFBQUFBQUFBQUFBQUFBQUFBQUFBT/wAARCAA8AmIDASIAAhEBAxEB/8QAHwAAAQUBAQEBAQEAAAAAAAAAAAECAwQFBgcICQoL/8QAtRAAAgEDAwIEAwUFBAQAAAF9AQIDAAQRBRIhMUEGE1FhByJxFDKBkaEII0KxwRVS0fAkM2JyggkKFhcYGRolJicoKSo0NTY3ODk6Q0RFRkdISUpTVFVWV1hZWmNkZWZnaGlqc3R1dnd4eXqDhIWGh4iJipKTlJWWl5iZmqKjpKWmp6ipqrKztLW2t7i5usLDxMXGx8jJytLT1NXW19jZ2uHi4+Tl5ufo6erx8vP09fb3+Pn6/8QAHwEAAwEBAQEBAQEBAQAAAAAAAAECAwQFBgcICQoL/8QAtREAAgECBAQDBAcFBAQAAQJ3AAECAxEEBSExBhJBUQdhcRMiMoEIFEKRobHBCSMzUvAVYnLRChYkNOEl8RcYGRomJygpKjU2Nzg5OkNERUZHSElKU1RVVldYWVpjZGVmZ2hpanN0dXZ3eHl6goOEhYaHiImKkpOUlZaXmJmaoqOkpaanqKmqsrO0tba3uLm6wsPExcbHyMnK0tPU1dbX2Nna4uPk5ebn6Onq8vP09fb3+Pn6/9oADAMBAAIRAxEAPwD8qqKKKACiiigAooooAKKKn0+xn1S+trO2Tzbm4kWGJMgbmYgAZPA5I600nJ2W4nJRTb2IKK6X4kfDfxF8I/G2qeEfFmnf2T4h0x1S7s/Pjm8tmRXUb42ZD8rKeCetYNhYXOq31vZWVtNeXlzIsMFvboXklkYgKiqOWYkgADkk1K96zQ3puQUVb1fR7/w/ql3pmqWVxpupWcrQXNneRNFNBIpwyOjAFWBBBBGQRXeeIvgF4r8Mah4D0m7SzPiTxlDDPp+gpcAXcKTyBLY3G4BIjNkMoL5C8uEyMve1uoPRtPp/X6o84or1++/ZJ+K+m6/4b0S48LKmp+ItVvNE0uAalZt9ovLSTyriLcJSF2PxuYhT/CSK4aw+GviTVPCPiXxPbad5uh+G7i3tdVuvPjH2eSdnWFdpbc+5o3GUBAxzjIpXXLz9O/3L82vvXctwlFtNar/gr/21/c+zOZop9vC1zPHChQPIwQGRwigk45ZiAB7k4Fdr8Rvgt4s+FNnoF54htdPSw16KWbTL3TNYs9St7pI38uQrLazSJ8r/ACnJHIPoart5uy83vb1I8jh6K7n4j/BPxb8KNL8P6l4itdPXTNfSaTTL7S9YstTt7pYXCS7ZLWaRflZgpyRzkdjXDUgCiip9PsZ9Uvraztk825uJFhiTIG5mIAGTwOSOtNJydluJyUU29iCivQP+FCeOz8Wb34Z/2F/xW9m06T6X9sg+QwwtNIPN8zyziNGbhucYGTxXn9QpKVmnur/J9fTR/cU01owooru/+FI+LX+GF18QobbTbvwrZvDHd3FprdjPPatM7JEs1skxniLFGxvjGcE9Oap6Lme3+ei+96C62OEorpPh38OfEXxY8XWXhfwrp/8Aauu3iyvBa+fHDvEcbSud8jKowiMeTzjA54p2hfDXxH4l8E+J/F2m6d9p8PeGTajVrzz41+zfaJDHB8jMHfc4I+QHHU4FPle9vP8AG356eoHM0V6r8Pv2W/id8UvDen6/4Y8NrqOk6hc3NpbXDalaQb5beEzTjbJKrALGC24gA9ASeK5/w38I9c8XfDnxL4y0drbULTw3LCNV0+FnN5bW8uQt2U27WgDjYzKxKkruUAhqmT5b36Wb9Hs/RkxkpbPrb59vU4qiiimUFFFFABRRRQAUUUUAFFFFABRRRQAUUUUAFFFFABRRRQAUUUUAFFFFABRRRQAUUUUAFFFFABRRRQAUUUUAFFFFABRRRQAUUUUAFFFFABRRRQAUUUUAFFFFABRRRQAUUUUAFe5/skt4vXxnrB0NdDfwkLD/AIq1fFzBdDOneYnF2SCQfM2eWYwZd+3yxmvDKKqMuV3tf12+a6ruuq0JlHmVr2223+T6Ps+j1PqPwOtov7UHiQ/s6yCX4fNBKdRXx9HGmlppG9PtS3xdiWss7SrMBPgxgDzQCZfDa6av7VWpn9mqRn8FtazHU08aRhdFj03peLeGViX07aAQ0wWblBjzQhPyvRRGXLy9bJrzd76PvHX4fOWvvaXfSS7/APA28/P000PTP2iR8L/+FoagfhC2qHwgygqupKQqTbm3i3LnzWt8bShmAlwcOMjJ9R/YN8LweJvFHxQYeC9O8e6vpvgW/wBR0jRtS0saisl9HNbmEpBglmySMLyQxXkEg/MVdt8Mvi3rHwph8XxaTbWNwvijQLnw7efbY3Yx285Qu8e11xIPLGC24cnKminaMZJ9YyXzcWl+L+QSfNJPzX4NH3J4I8A+FdU+KfwutPHvgHwzD47bwFr134t8KR6PBYRoyJM9i9xawBFt7locOdqxyKCjfKduPmMfE3WfjT4k8GjwT8IdFf4g6X9uN2vhvwvaXdrqVvI5aNW0pbVof3CM6iVldiCrM25FNeA0UQly1lVeyvp01lKT+Vmo27K3UlJxi4xe9t9fsxX6X9Wt2rn6I698C9O8N/8ABTG707V/hrZ2XgLULPUJ9N0y90QW+k3nk6Izv5KBFRgk2CTHyrkHIbBrh7X4gWFh4R/Z2+Ksvh3wX4d1i+8WalpurXdn4Y0+C0NjFdWkisYPJMSvEsjhZwolVQPnzkn4mopRfK4N/ZSS9VJtv5p8vovOwSXN+N/nFpfc2peqXqfX/wC2RY+K7X9prUJfiP4OXRfhzN4xlkttZtfClrp41CyafczLfQQI92TCd2Wkc5OTzmvOf21LzXtH/bE+JN5dXM1pqlvrrT2NxBLteKABWs2jZTlQIfJKkHIAWvBq7f4kfGDXfitpvhWDxElpd3/h3ThpMOrLGy3dzao2YY523bX8oEqrbQ204YtgYxjFwjBL7N/xS19fdX3+Wu06ntJTlJfFr6Wb0XZPmd99l8vYf2L/AB94n8YftefCKDX/ABHq2uQQ+Imu44tSvpbhUmm3NNIA7HDyMAzMOWIyc16/8Ddc8B/ET4T/ABR07xD4P8P+A/CZ8beFINbuNIu9Q23Fs99cCQzPdXkvlqFDZeMptDsTnAx8EUVvdcihbqn90oSt6e5b536GKv8AvHfWSXytz/nz38reZ9z/ALW3gfS9P8H+INIl+FXiix8Qt4nS38L6zYfDO18O6akbuyNZLdWtzKNQV1VGhZlaQlSQxDkVyn7SXwZ+IGj/ALL37PC3/gbxJYtpdjqtrqC3OkXEZs5p9VfyI5coPLeTcuxWwW3DGc18h0Vjy+4oN3tJS+6Lj+N22++vc1nNy200a+93+7y/pfZ/xw+DnifQ/wBmX9mdfGPhPxN4f0PR5NWh8RXVxpE8baXFPqibTNuQeWzq2UD43cYzXY/Gb4Z2+j2Px2tfFnw78PeD/hXounxn4e+I7DRbe0lu7oMgsEtr9FEuo/aIPNebe82MF22FRX5/0VvUk6il/ecn/wCBfrHeL6PoTTfJLm9Pwv8Ag7+8utkdlrnwd8YeHPhn4c+IOoaK8Xg3xBPNa6dqqTxSJLLEzLJGyqxaNgVbAkClgpK5AJrj4ZPKlRwM7WB/KvRfiB8dda8e+AfCvgdNO0vw54Q8OeZLa6Ro0cojluZDmW6meaSSSSVuBy21QMIqjIPnFEZyp1HOHR6fL/gk6OKvv1/r0tfzvbQ/Zj4heC/COl/E3xrr9jptj/wnuiaTqHxBv9QQKk81hd6VfWa24lUE4WSK1kCHgeaz9yK+eY/hZolvrFjYS+A9CX9md/AK383j6XQ7cXP2hrTzPtP9qlfO+2/byIhaiTGP3fk7a/O2isuVKm4R091RXkkppfNKSs+8b9rawqcri2tr/i4vz1upfKVraa/afxQ8feEPgv4U+B9jN8KfCOvaPr/w9ivNezptvDqGozTLcQpILwxO8DxsFkEkIV2YYZmAXblfBf4K/EPUP2KPjU1r4D8TXK61eeHbzSzDo9w4v4I5blpJYMJ+9RVZSWXIAIJPNfINFVP341Iv7VvklNTS/C3p8rQmoqKS0St6u1m/nqz9Pf2T/Auo6D4q+B994F8H6PN8P7rwbdap4j8ZPo9rNcPqskV1DNbf2hMpkjeORYkFvA6NtLkqyljXx58Ib3UIP2U/2gbeDR7690+4fw8bjUIJIBBZFb2Qr5qvKsh3k7V8tHwc7to5rwWiqk+dtv8Ar3nL8L2S0tZdrGcVyxUe3+W/z3Oj0H4keLvCtlb2ei+Kda0e0t55bqG3sNQmgjjmli8mWRVVgA7xfu2YclflORxXsv7C+7/hb2v/AGzf/wAIt/wh2vf8JHjGz+z/ALBLu357eb5GMc7ttfO9dloPxV1jwz8NvEngvTIbO0svEU9vJql+kbG8uIYSWjtt5basPmYkIVQWZVyxCgCZaxn3lFx+9cv4J3XoUtJRfRNP7nf7+3mcbRRRQAUUUUAFFFFABRRRQAUUUUAFFFFABRRRQAUUUUAFFFFABRRRQAUUUUAFFFFABRRRQAUUUUAFFFFABRRRQAUUUUAFFFFABRRRQAUUUUAFFFFABRRRQAUUUUAFFFFABRRRQAV6Z4c+C/8AwkHwB8Y/Ez+2PI/4R3VbHTP7L+y7vtH2gOd/m7xt27Om05z1FeZ19G/Bv9oL/hU/7LXxI0DQfGOqeFfHura7plzYf2PNc208ltGsomIniACj5lypYE9gaUv4cmt/dt/4HFP8L37LXoRrzwS21v8A+Ayt+NvyOU8f/szeIvDviLwPoXha31Tx5q3ifwnY+KVsdI0mSSeBbhWZohHGZGcIF5fAznoKzPhd8HIfEvxm074c+OrrXvAWrX97Bpcaf2ELi4gu5pY0jWeCae3aNMPuLAswwMIc5H1vdftbfDvxjY6jpGva9Z6vqWv/AA38P6Pea54oh1d7X+0bOWWS6tbt7Nku2WQyLmSPerMo3bhmvMG+Kmh+Nv2ovhx4s8UePvAOi6H4Hi0eOO70Ky8QSW9za2lxvEKfaLaW5edU43S7VICDeSDXTFQWLUJW5HJry5eaWt/JJWvve/bmhyl7NtbpL77R6erd7aK1u9vHND+EWhN+0Df/AA11/wAS6jp0EWuS6Bb6tpujx3jS3Auvs6M8L3MQRG5YkSMV6AN1rN8a/BfW9B+N3iT4Z+HbXUPGesaVqt1pkCaXp7vcXnkO4Z1gQuw+VCxALYAPPGa9JuJPBNx+2BceLR8T/Di+Fm8RnxQurNZatsMZv/N+y+X9h83z9nP3PK7eZnivQrr4rfDq1+NX7QJg+IGnHSPilpeoxaZ4rsbDUNmltNdeettdxyWqzBZUQRyGGOUDeuM/MV5KfM4Qct+WTfqkml5Xd1/SOt8vv2/mjb0bak/O2j7nyZ4u8E+Ivh9rLaR4p0DVPDWrKiyNYavZyWs4VuVYxyKGwexxzWLX0V8XPFXhnx5pHwN+FWjeIZ/FI8MwyadfeKrHTp3EzXl0snk2tvKsc0qW4O1QyoXYsAqjBPAftJfBkfs9/GzxP8PhrsXiT+xZY4zqUNuYBLviSTBjLNtYb9pG44IPNO9nZ9XK3mk/8mvv0M7fgk38/wCvVdUiL4M/CEfFyPx4f7XOlP4X8LXviVUFqZ/tf2cx5h++uzIfO/5sbfumtW4/Zx8Q2PwrbxLdW2p2vib/AISyDwqnhGbS5FvXkmtDcRuATv3N8iiPy8nepB5APT/sP/EPwP8ADv4xahL8RtTbSfB2r+H9Q0e/nW0kudyzRgBNkas3JAGQPrxmvrOP9vf4ZeItN8D63qmpzaL4p1jUtRbxD9hsJZJdBd7CbT7S/RjHtlKxGJiEZmA3ABiAtXWvGKlBXulorb8z7vqtH0irP1ypuU5uLVknv5cq/BO703a5ex+fuufBX4heGfEWl6BrHgPxNpOvaqcafpd9o9xDdXhzj91EyBpOePlB5qLUfhh4h8Hnw9feNvDviPwp4c1hleDVLjRpB9og+UvJbLKYknIR1YASKDuXLAHNfUvwj+N3w9+Ctn8F/CF343t/Ftvofjw+LtT8Q6dY3q2Ok25iEP2aFZ4I55Wbb5r7YgoO0DeckeGeOPjF4g+KfiLxJ4Z1LxvHH4O13xVLr73+tQSTIk+1oo7h3SGS5AEJCbEU8YG3jib2lGKV738lpy6P/wACkr315fPS0/i51ZJLbXfn/wAotrdc3pen+0J8F7H4L694VtdK1+58Sad4i8OWXiO1ubvTlsZkjud5WJ4lmmG4BRkhyMn2ydjxT+yn4t8A/ACf4k+LtP1rwpdL4hh0SDQta0Wa0e4je3eb7SkkhUlQUK4CEf7XGK9o8ZfFr4Z6D8cf2efHVp410fxrpPgnStC0TV9O0+x1GK4R7TeZbpBc2kSPGpKlRu3kgfIOSOY+LXjb4f6Z+zH4i8HaR8To/iH4v1rx6PE880GmX8CmEwzxlmluY0LyHKM+QMGXAL4LVda0VLk195pf4VONvvi3r5Pre2lG0ppT0XL97cJflJLTrzI8b+NHwfh+Edr8P5Y9cGtP4q8LWfiV4xa+T9j89pF8jO9vM2+Wfm+XP90V5tXrHx98Z2HjKy+GIsvEdn4gk0jwbY6TcR2elz2X2CSN5WNtIZXbz5F8zmaPajZGFGDnyeo6y9X913b8CdbRvvZffZX/AK6bWWwUUUUxBRRRQAUUUUAFFFFABRRRQAUUUUAFFFFABRRRQAUUUUAFFFFABRRRQAUUUUAFFFFABRRRQAUUUUAFFFFABRRRQAUUUUAFFFFABRRRQAUUUUAFFFFABRRRQAUUUUAFFFFABRRRQAUUUUAFFFFABRRRQAUUUUAFFFFABRRRQAUUUUAFFFFAGr4X8Wa54H1y21rw5rOoeH9Ztt3kahpd1JbXEW5SrbZEIZcqxBweQSO9Z91dT391Nc3M0lxczO0ks0rFndiclmJ5JJJJJqKije1+gBRRRQAUUUUAFFFFABRRRQAUUUUAFFFFABRRRQAUUUUAFFFFABRRRQAUUUUAFFFFABRRRQAUUUUAFFFFABRRRQAUUUUAFFFFABRRRQAUUUUAFFFFABRRRQAUUUUAFFFFABRRRQAUUUUAFFFFABRRRQAUUUUAFFFFABRRRQAUUUUAFFFFABRRRQAUUUUAf//Z)\r\n",
        "\r\n",
        "![figura-02.jpg](data:image/jpeg;base64,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)"
      ]
    },
    {
      "cell_type": "markdown",
      "metadata": {
        "id": "ufc22iEX9Mwv"
      },
      "source": [
        "# **3) Identação**\r\n",
        "\r\n",
        "A identação refere-se aos espaços no início de uma linha de código.\r\n",
        "\r\n",
        "Enquanto em outras linguagens de programação o recuo no código é apenas para legibilidade, a identação em Python define a estrutura do código alinhada a lógica a ser executada.\r\n",
        "\r\n",
        "Python usa indentação para indicar um bloco de código."
      ]
    },
    {
      "cell_type": "markdown",
      "metadata": {
        "id": "PbeGshaI_XoG"
      },
      "source": [
        "**3.1 Exemplo**"
      ]
    },
    {
      "cell_type": "code",
      "metadata": {
        "id": "uQ3fWZRA_dsO"
      },
      "source": [
        "if 5 > 2:\r\n",
        "  print(\"Cinco eh maior que dois!\")"
      ],
      "execution_count": null,
      "outputs": []
    },
    {
      "cell_type": "markdown",
      "metadata": {
        "id": "SfRFge7J_9OS"
      },
      "source": [
        "**3.2 Exemplo**\r\n",
        "\r\n",
        "Erro de Sintaxe"
      ]
    },
    {
      "cell_type": "code",
      "metadata": {
        "id": "pRSnmucjAKXV"
      },
      "source": [
        "if 5 > 2:\r\n",
        "print(\"Cinco eh maior que dois!\")"
      ],
      "execution_count": null,
      "outputs": []
    },
    {
      "cell_type": "markdown",
      "metadata": {
        "id": "Tf5r5sSOABWE"
      },
      "source": [
        "**3.3 Exemplo**\r\n",
        "\r\n",
        "O número de espaços depende de você como programador organiza a identação, mas deve ter pelo menos um caracter de espaço."
      ]
    },
    {
      "cell_type": "code",
      "metadata": {
        "id": "T0A6J-zPBCBl"
      },
      "source": [
        "if 5 > 2:\r\n",
        " print(\"Cinco eh maior que dois!\") \r\n",
        "if 5 > 2:\r\n",
        "        print(\"Cinco eh maior que dois!\") \r\n"
      ],
      "execution_count": null,
      "outputs": []
    },
    {
      "cell_type": "markdown",
      "metadata": {
        "id": "FIba2y1kBfTf"
      },
      "source": [
        "**3.4 Exemplo**\r\n",
        "\r\n",
        "Você deve usar o mesmo número de espaços no mesmo bloco de código, caso contrário, o Python apresentará um erro.\r\n"
      ]
    },
    {
      "cell_type": "code",
      "metadata": {
        "id": "d_E9WhQeBxA1"
      },
      "source": [
        "if 5 > 2:\r\n",
        " print(\"Cinco eh maior que dois!\")\r\n",
        "        print(\"Cinco eh maior que dois!\")"
      ],
      "execution_count": null,
      "outputs": []
    },
    {
      "cell_type": "markdown",
      "metadata": {
        "id": "-pAhpnQh9Wtx"
      },
      "source": [
        "# **4) Comentários**\r\n",
        "\r\n",
        "Os comentários podem ser usados para explicar o código Python.\r\n",
        "\r\n",
        "Os comentários podem ser usados para tornar o código mais legível.\r\n",
        "\r\n",
        "Os comentários podem ser usados para prevenir a execução ao testar o código."
      ]
    },
    {
      "cell_type": "markdown",
      "metadata": {
        "id": "K2WEPf2s_3dK"
      },
      "source": [
        "**4.1 Criando um comentário**"
      ]
    },
    {
      "cell_type": "code",
      "metadata": {
        "id": "U7LA0paqED9P"
      },
      "source": [
        "#Isso é um comentário\r\n",
        "print(\"Alô, Mundo!\")"
      ],
      "execution_count": null,
      "outputs": []
    },
    {
      "cell_type": "markdown",
      "metadata": {
        "id": "qwWRpnFCEaSB"
      },
      "source": [
        "Os comentários podem ser colocados no final de uma linha e o Python irá ignorar o resto da linha:"
      ]
    },
    {
      "cell_type": "code",
      "metadata": {
        "id": "fPl1VZOnEjdC"
      },
      "source": [
        "print(\"Alô, Mundo!\") #Isso é um comentário"
      ],
      "execution_count": null,
      "outputs": []
    },
    {
      "cell_type": "markdown",
      "metadata": {
        "id": "uxaswVwPE-lT"
      },
      "source": [
        "Um comentário não precisa ser um texto que explica o código, ele também pode ser usado para impedir que o Python execute o código."
      ]
    },
    {
      "cell_type": "code",
      "metadata": {
        "id": "wxa4-jwWFD4e"
      },
      "source": [
        "#print(\"Alô, Mundo!\")\r\n",
        "print(\"Covid, Mata!\")"
      ],
      "execution_count": null,
      "outputs": []
    },
    {
      "cell_type": "markdown",
      "metadata": {
        "id": "oXZtixc7Ffgy"
      },
      "source": [
        "**4.2 Comentários Multi Linha**\r\n",
        "\r\n",
        "Python realmente não tem uma sintaxe para comentários de várias linhas.\r\n",
        "\r\n",
        "Para adicionar um comentário em várias linhas, você pode inserir um # para cada linha."
      ]
    },
    {
      "cell_type": "markdown",
      "metadata": {
        "id": "DbaQyhXAFaKI"
      },
      "source": [
        ""
      ]
    },
    {
      "cell_type": "code",
      "metadata": {
        "id": "12sFxu_RF_YU"
      },
      "source": [
        "#Isso é um comentário\r\n",
        "#escrito em \r\n",
        "#mais de uma linha\r\n",
        "print(\"Alô, Mundo!\")"
      ],
      "execution_count": null,
      "outputs": []
    },
    {
      "cell_type": "markdown",
      "metadata": {
        "id": "mESPKDBZGSpy"
      },
      "source": [
        "Ou, não exatamente como pretendido, você pode usar uma string multilinha.\r\n",
        "\r\n",
        "Como o Python irá ignorar literais de string que não são atribuídos a uma variável, você pode adicionar uma string de várias linhas (aspas triplas) em seu código e colocar seu comentário dentro dela."
      ]
    },
    {
      "cell_type": "code",
      "metadata": {
        "id": "RkwUgVhjGt9q"
      },
      "source": [
        "\"\"\"\r\n",
        "This is a comment\r\n",
        "written in\r\n",
        "more than just one line\r\n",
        "\"\"\"\r\n",
        "print(\"Hello, World!\")"
      ],
      "execution_count": null,
      "outputs": []
    },
    {
      "cell_type": "markdown",
      "metadata": {
        "id": "5TfsDd38G3_e"
      },
      "source": [
        "Desde que a string não seja atribuída a uma variável, o Python lerá o código, mas o ignorará, e você terá feito um comentário em várias linhas."
      ]
    },
    {
      "cell_type": "markdown",
      "metadata": {
        "id": "5sv7Trdq9gCh"
      },
      "source": [
        "# **5) Tipos de Dados**"
      ]
    },
    {
      "cell_type": "markdown",
      "metadata": {
        "id": "p8BLV6vR_APS"
      },
      "source": [
        "# **6) Números**"
      ]
    },
    {
      "cell_type": "markdown",
      "metadata": {
        "id": "Uu5ZEGY17gPR"
      },
      "source": [
        "# **7) Casting**"
      ]
    },
    {
      "cell_type": "markdown",
      "metadata": {
        "id": "Ft2M9nWI7aEP"
      },
      "source": [
        ""
      ]
    },
    {
      "cell_type": "code",
      "metadata": {
        "id": "a0OKmxBJ7XEX"
      },
      "source": [
        ""
      ],
      "execution_count": null,
      "outputs": []
    }
  ]
}