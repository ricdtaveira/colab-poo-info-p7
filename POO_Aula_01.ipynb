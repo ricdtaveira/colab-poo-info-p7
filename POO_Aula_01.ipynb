{
  "nbformat": 4,
  "nbformat_minor": 0,
  "metadata": {
    "colab": {
      "name": "POO_Aula_01.ipynb",
      "private_outputs": true,
      "provenance": [],
      "collapsed_sections": [],
      "toc_visible": true,
      "authorship_tag": "ABX9TyPtnVz4+nM4Ypo5Y0uF82+d",
      "include_colab_link": true
    },
    "kernelspec": {
      "name": "python3",
      "display_name": "Python 3"
    }
  },
  "cells": [
    {
      "cell_type": "markdown",
      "metadata": {
        "id": "view-in-github",
        "colab_type": "text"
      },
      "source": [
        "<a href=\"https://colab.research.google.com/github/ricdtaveira/colab-poo-info-p7/blob/main/POO_Aula_01.ipynb\" target=\"_parent\"><img src=\"https://colab.research.google.com/assets/colab-badge.svg\" alt=\"Open In Colab\"/></a>"
      ]
    },
    {
      "cell_type": "markdown",
      "metadata": {
        "id": "QnhMjpCS3v_R"
      },
      "source": [
        ""
      ]
    },
    {
      "cell_type": "markdown",
      "metadata": {
        "id": "5orH-aZd3y8A"
      },
      "source": [
        "# **AULA-01**\r\n",
        "# **1) Introdução**\r\n",
        "Nessa aula iremos apresentar a instalação do ambiente de execução da linguagem Python. Em seguida apresentaremos os vários ambientes de desenvolvimento de programas. Os seguintes tópicos serão abordados:\r\n",
        "\r\n",
        "*   **Instalação do Python** \r\n",
        "*   **IDE VsCode**\r\n",
        "*   **IDE PyCharm** \r\n",
        "*   **Notebook Jupiter** \r\n",
        "*   **Colab** \r\n",
        "\r\n",
        "\r\n",
        "\r\n",
        "\r\n",
        "\r\n",
        "\r\n",
        "\r\n",
        "\r\n",
        "\r\n",
        "\r\n",
        "\r\n",
        "\r\n"
      ]
    },
    {
      "cell_type": "markdown",
      "metadata": {
        "id": "sWmFSWGV9CQ8"
      },
      "source": [
        "# **2) Instalação do Python**"
      ]
    },
    {
      "cell_type": "markdown",
      "metadata": {
        "id": "ufc22iEX9Mwv"
      },
      "source": [
        "# **3) IDE VSCode**"
      ]
    },
    {
      "cell_type": "markdown",
      "metadata": {
        "id": "-pAhpnQh9Wtx"
      },
      "source": [
        "# **4) IDE PyCharm**"
      ]
    },
    {
      "cell_type": "markdown",
      "metadata": {
        "id": "5sv7Trdq9gCh"
      },
      "source": [
        "# **5) Notebook Jupiter**"
      ]
    },
    {
      "cell_type": "markdown",
      "metadata": {
        "id": "p8BLV6vR_APS"
      },
      "source": [
        "# **6) Colab**"
      ]
    }
  ]
}